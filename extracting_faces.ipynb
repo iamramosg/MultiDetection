{
 "cells": [
  {
   "cell_type": "code",
   "execution_count": 1,
   "id": "d4c916d7",
   "metadata": {},
   "outputs": [],
   "source": [
    "import cv2\n",
    "import os"
   ]
  },
  {
   "cell_type": "code",
   "execution_count": 2,
   "id": "d3e9b280",
   "metadata": {},
   "outputs": [],
   "source": [
    "imagesPath = \"C:/Users/UTLDualGabrielRamos/Multi_detection/input_images\""
   ]
  },
  {
   "cell_type": "code",
   "execution_count": 3,
   "id": "e44166b1",
   "metadata": {},
   "outputs": [],
   "source": [
    "if not os.path.exists(\"faces\"):\n",
    "    os.makedirs(\"faces\")\n",
    "    print(\"Nueva carpeta: faces\")"
   ]
  },
  {
   "cell_type": "code",
   "execution_count": 5,
   "id": "ef6f224b",
   "metadata": {},
   "outputs": [
    {
     "name": "stdout",
     "output_type": "stream",
     "text": [
      "Elon.jpg\n",
      "Gabriel.png\n",
      "Lalo.png\n",
      "Uriel.png\n"
     ]
    }
   ],
   "source": [
    "faceClassif = cv2.CascadeClassifier(\"haarcascades/haarcascade_frontalface_default.xml\")\n",
    "\n",
    "count = 0\n",
    "\n",
    "for imageName in os.listdir(imagesPath):\n",
    "    print(imageName)\n",
    "    image = cv2.imread(imagesPath + \"/\" + imageName)\n",
    "    faces = faceClassif.detectMultiScale(image, 1.1, 5)\n",
    "    for (x,y,w,h) in faces:\n",
    "        #cv2.rectangle(image, (x,y), (x+w, y+h), (0,255,0), 2)\n",
    "        face = image[y:y+h, x:x+w]\n",
    "        face = cv2.resize(face, (150,150))\n",
    "        cv2.imwrite(\"face\" + str(count) + \".png\", face)\n",
    "        count += 1\n",
    "\n",
    "        \n",
    "        \n",
    "   # cv2.imshow(\"Image\", image)\n",
    "    #cv2.waitKey(0)\n",
    "#cv2.destroyAllWindows()"
   ]
  },
  {
   "cell_type": "code",
   "execution_count": null,
   "id": "1474ed2d",
   "metadata": {},
   "outputs": [],
   "source": []
  },
  {
   "cell_type": "code",
   "execution_count": null,
   "id": "3e166fe5",
   "metadata": {},
   "outputs": [],
   "source": []
  }
 ],
 "metadata": {
  "kernelspec": {
   "display_name": "Python 3 (ipykernel)",
   "language": "python",
   "name": "python3"
  },
  "language_info": {
   "codemirror_mode": {
    "name": "ipython",
    "version": 3
   },
   "file_extension": ".py",
   "mimetype": "text/x-python",
   "name": "python",
   "nbconvert_exporter": "python",
   "pygments_lexer": "ipython3",
   "version": "3.8.13"
  }
 },
 "nbformat": 4,
 "nbformat_minor": 5
}
