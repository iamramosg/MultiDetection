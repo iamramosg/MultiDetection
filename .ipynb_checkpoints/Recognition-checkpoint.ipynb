{
 "cells": [
  {
   "cell_type": "code",
   "execution_count": 1,
   "id": "0ef3338a",
   "metadata": {},
   "outputs": [],
   "source": [
    "import cv2\n",
    "import os\n",
    "import face_recognition"
   ]
  },
  {
   "cell_type": "code",
   "execution_count": 8,
   "id": "5cb18f09",
   "metadata": {},
   "outputs": [],
   "source": [
    "#codificar los rostros extraidos\n",
    "imageFacesPath = \"C:/Users/UTLDualGabrielRamos/Multi_detection/faces\"\n",
    "\n",
    "facesEncodings = []\n",
    "facesNames = []\n",
    "\n",
    "for file_name in os.listdir(imageFacesPath):\n",
    "    image = cv2.imread(imageFacesPath + \"/\" + file_name)\n",
    "    #face_recognition necesita las imagenes en RGB\n",
    "    image = cv2.cvtColor(image, cv2.COLOR_BGR2RGB)\n",
    "    \n",
    "    #codificar las imagenes \n",
    "    #devuelve el vector codificado de 128 elementos \n",
    "    #arriba, derecha, abajo, izquierda\n",
    "    f_coding = face_recognition.face_encodings(image, known_face_locations=[(0,150,150,0)])[0]\n",
    "    facesEncodings.append(f_coding)\n",
    "    facesNames.append(file_name.split(\".\")[0])\n",
    "\n",
    "    \n",
    "#detectar video\n",
    "cap = cv2.VideoCapture(0, cv2.CAP_DSHOW)\n",
    "faceClassif = cv2.CascadeClassifier(\"haarcascades/haarcascade_frontalface_default.xml\")\n",
    "\n",
    "while True:\n",
    "    ret, frame = cap.read()\n",
    "    if ret == False:\n",
    "        break\n",
    "    frame = cv2.flip(frame, 1)\n",
    "    orig = frame.copy() #creamos una copia de los frames sin modificar \n",
    "    faces = faceClassif.detectMultiScale(frame, 1.1, 5)\n",
    "    \n",
    "    for (x,y,w,h) in faces:\n",
    "        face = orig[y:y+h, x:x+w]\n",
    "        face = cv2.cvtColor(face, cv2.COLOR_BGR2RGB)\n",
    "        actual_face_encodig = face_recognition.face_encodings(face, known_face_locations=[(0,w,h,0)])[0]\n",
    "        #params: lista donde estan contenidos los rostros, rostro actual a comparar\n",
    "        #devuelve True en caso de que exista una coincidencia o match si no devuelve False\n",
    "        result = face_recognition.compare_faces(facesEncodings, actual_face_encodig) \n",
    "        \n",
    "        #si existe ua coincidencia vamos a buscar el indice\n",
    "        if True in result:\n",
    "            index = result.index(True)\n",
    "            name = facesNames[index]\n",
    "            color = (125, 220, 0)\n",
    "        else:\n",
    "            name = \"Desconocido\"\n",
    "            color = (50, 50, 255)\n",
    "\n",
    "        cv2.rectangle(frame, (x, y+h), (x+w, y+h+30), color, -1)\n",
    "        cv2.rectangle(frame, (x,y), (x+w, y+h), color, 2)\n",
    "        cv2.putText(frame, name, (x, y+h+25), 2, 1, (255,255,255), 2, cv2.LINE_AA)\n",
    "    \n",
    "    cv2.imshow(\"Frame\", frame)\n",
    "    k = cv2.waitKey(1) & 0xFF\n",
    "    if k == 27:\n",
    "        break\n",
    "        \n",
    "        \n",
    "cap.release()\n",
    "cv2.destroyAllWindows()"
   ]
  },
  {
   "cell_type": "code",
   "execution_count": null,
   "id": "b2812981",
   "metadata": {},
   "outputs": [],
   "source": []
  }
 ],
 "metadata": {
  "kernelspec": {
   "display_name": "Python 3 (ipykernel)",
   "language": "python",
   "name": "python3"
  },
  "language_info": {
   "codemirror_mode": {
    "name": "ipython",
    "version": 3
   },
   "file_extension": ".py",
   "mimetype": "text/x-python",
   "name": "python",
   "nbconvert_exporter": "python",
   "pygments_lexer": "ipython3",
   "version": "3.8.13"
  }
 },
 "nbformat": 4,
 "nbformat_minor": 5
}
