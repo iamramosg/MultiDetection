{
 "cells": [
  {
   "cell_type": "code",
   "execution_count": 4,
   "id": "0ef3338a",
   "metadata": {},
   "outputs": [],
   "source": [
    "import cv2\n",
    "import os\n",
    "import face_recognition\n",
    "import mediapipe"
   ]
  },
  {
   "cell_type": "code",
   "execution_count": null,
   "id": "2952eb1b",
   "metadata": {},
   "outputs": [],
   "source": []
  },
  {
   "cell_type": "code",
   "execution_count": 2,
   "id": "5cb18f09",
   "metadata": {},
   "outputs": [],
   "source": [
    "#codificar los rostros extraidos\n",
    "imageFacesPath = \"C:/Users/UTLDualGabrielRamos/Multi_detection/faces\"\n",
    "\n",
    "facesEncodings = []\n",
    "facesNames = []\n",
    "\n",
    "for file_name in os.listdir(imageFacesPath):\n",
    "    image = cv2.imread(imageFacesPath + \"/\" + file_name)\n",
    "    #face_recognition necesita las imagenes en RGB\n",
    "    image = cv2.cvtColor(image, cv2.COLOR_BGR2RGB)\n",
    "    \n",
    "    #codificar las imagenes \n",
    "    #devuelve el vector codificado de 128 elementos \n",
    "    #arriba, derecha, abajo, izquierda\n",
    "    f_coding = face_recognition.face_encodings(image, known_face_locations=[(0,150,150,0)])[0]\n",
    "    facesEncodings.append(f_coding)\n",
    "    facesNames.append(file_name.split(\".\")[0])\n",
    "\n",
    "    \n",
    "#detectar video\n",
    "cap = cv2.VideoCapture(0, cv2.CAP_DSHOW)\n",
    "faceClassif = cv2.CascadeClassifier(\"haarcascades/haarcascade_frontalface_default.xml\")\n",
    "\n",
    "while True:\n",
    "    ret, frame = cap.read()\n",
    "    if ret == False:\n",
    "        break\n",
    "    frame = cv2.flip(frame, 1)\n",
    "    orig = frame.copy() #creamos una copia de los frames sin modificar \n",
    "    faces = faceClassif.detectMultiScale(frame, 1.1, 5)\n",
    "    \n",
    "    for (x,y,w,h) in faces:\n",
    "        face = orig[y:y+h, x:x+w]\n",
    "        face = cv2.cvtColor(face, cv2.COLOR_BGR2RGB)\n",
    "        actual_face_encodig = face_recognition.face_encodings(face, known_face_locations=[(0,w,h,0)])[0]\n",
    "        #params: lista donde estan contenidos los rostros, rostro actual a comparar\n",
    "        #devuelve True en caso de que exista una coincidencia o match si no devuelve False\n",
    "        result = face_recognition.compare_faces(facesEncodings, actual_face_encodig) \n",
    "        \n",
    "        #si existe ua coincidencia vamos a buscar el indice\n",
    "        if True in result:\n",
    "            index = result.index(True)\n",
    "            name = facesNames[index]\n",
    "            color = (125, 220, 0)\n",
    "        else:\n",
    "            name = \"Desconocido\"\n",
    "            color = (50, 50, 255)\n",
    "\n",
    "        #cv2.rectangle(frame, (x, y+h), (x+w, y+h+30), color, -1)\n",
    "        cv2.rectangle(frame, (x,y), (x+w, y+h), color, 2)\n",
    "        cv2.putText(frame, name, (x, y+h+25), 2, 1, (255,255,255), 2, cv2.LINE_AA)\n",
    "    \n",
    "    cv2.imshow(\"Frame\", frame)\n",
    "    k = cv2.waitKey(1) & 0xFF\n",
    "    if k == 27:\n",
    "        break\n",
    "        \n",
    "        \n",
    "cap.release()\n",
    "cv2.destroyAllWindows()"
   ]
  },
  {
   "cell_type": "code",
   "execution_count": 3,
   "id": "4a02d268",
   "metadata": {},
   "outputs": [
    {
     "data": {
      "text/plain": [
       "numpy.ndarray"
      ]
     },
     "execution_count": 3,
     "metadata": {},
     "output_type": "execute_result"
    }
   ],
   "source": [
    "type(faces)"
   ]
  },
  {
   "cell_type": "code",
   "execution_count": 4,
   "id": "076900fa",
   "metadata": {},
   "outputs": [
    {
     "name": "stdout",
     "output_type": "stream",
     "text": [
      "[[186 116 223 223]]\n"
     ]
    }
   ],
   "source": [
    "print(faces)"
   ]
  },
  {
   "cell_type": "code",
   "execution_count": 3,
   "id": "ffbb438e",
   "metadata": {},
   "outputs": [
    {
     "name": "stdout",
     "output_type": "stream",
     "text": [
      "[-1.85843587e-01  1.03251137e-01  7.04433918e-02 -4.35840786e-02\n",
      " -1.34691462e-01 -2.85388157e-02 -4.66511883e-02 -9.51799750e-02\n",
      "  1.85504153e-01 -1.47478893e-01  2.20970288e-01  3.45847234e-02\n",
      " -1.22766450e-01  5.65254539e-02 -4.68152538e-02  1.05108432e-01\n",
      " -1.26757413e-01 -1.38865292e-01 -4.96726669e-02 -2.21134871e-02\n",
      "  7.03400373e-02 -3.05419415e-02  1.46096703e-02  7.65635967e-02\n",
      " -1.93339169e-01 -3.31635445e-01 -1.27622589e-01 -9.28621516e-02\n",
      "  8.41933191e-02  1.82500249e-03 -1.65361837e-02 -1.04873572e-02\n",
      " -1.97485238e-01 -1.93379503e-02 -6.85190968e-03  9.68450755e-02\n",
      "  5.41610084e-02 -1.23667531e-02  2.24288672e-01  3.45381908e-04\n",
      " -2.29479939e-01  2.64178775e-02  5.52850068e-02  2.17089087e-01\n",
      "  1.27683029e-01  6.03655390e-02  9.35551003e-02 -8.92736912e-02\n",
      "  1.13460258e-01 -1.84503511e-01  1.16331644e-01  6.32862598e-02\n",
      "  1.90548345e-01  2.45835315e-02  7.79910237e-02 -1.61886588e-01\n",
      "  2.29067076e-02  1.11655027e-01 -1.66473210e-01  1.06368184e-01\n",
      "  2.84084138e-02 -7.04669766e-03  9.24328715e-03 -2.80690137e-02\n",
      "  2.74474561e-01  1.80359304e-01 -6.54118955e-02 -1.61633894e-01\n",
      "  2.45419338e-01 -1.66958585e-01 -7.95270950e-02  6.99622408e-02\n",
      " -1.05447061e-01 -1.59218982e-01 -2.95104921e-01  4.83918972e-02\n",
      "  4.61570978e-01  1.77332088e-01 -1.89343154e-01  5.35151735e-02\n",
      " -4.55581769e-02 -5.37781790e-02  6.98118284e-02  1.11879162e-01\n",
      " -1.05800770e-01  8.91452655e-03 -6.01987839e-02  3.16426940e-02\n",
      "  3.13168019e-01  1.54286735e-02 -4.93380465e-02  1.78097084e-01\n",
      "  4.99531068e-02  7.75677636e-02  5.53368172e-03  1.95611897e-03\n",
      " -1.00439355e-01 -3.46052926e-04 -1.19509675e-01  1.43085802e-02\n",
      " -1.17331669e-02  3.12747583e-02 -1.02066100e-02  1.35822013e-01\n",
      " -2.17541382e-01  1.00539781e-01 -5.73669225e-02 -8.30929950e-02\n",
      " -5.92040308e-02  1.39504090e-01 -1.27510652e-01 -6.24118745e-02\n",
      "  1.27708048e-01 -2.17014939e-01  2.15168387e-01  1.73465118e-01\n",
      "  1.20819528e-02  1.27485856e-01  1.16190135e-01  3.07111870e-02\n",
      "  1.13660015e-01  4.60102633e-02 -1.65344954e-01 -6.82873800e-02\n",
      "  9.67717096e-02 -1.65526181e-01  9.44879204e-02  7.41931424e-02]\n"
     ]
    }
   ],
   "source": [
    "print(f_coding)"
   ]
  },
  {
   "cell_type": "code",
   "execution_count": null,
   "id": "a5f82c13",
   "metadata": {},
   "outputs": [],
   "source": []
  }
 ],
 "metadata": {
  "kernelspec": {
   "display_name": "Python 3 (ipykernel)",
   "language": "python",
   "name": "python3"
  },
  "language_info": {
   "codemirror_mode": {
    "name": "ipython",
    "version": 3
   },
   "file_extension": ".py",
   "mimetype": "text/x-python",
   "name": "python",
   "nbconvert_exporter": "python",
   "pygments_lexer": "ipython3",
   "version": "3.8.13"
  }
 },
 "nbformat": 4,
 "nbformat_minor": 5
}
